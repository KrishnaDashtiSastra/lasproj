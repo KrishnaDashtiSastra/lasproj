{
  "cells": [
    {
      "cell_type": "markdown",
      "metadata": {
        "colab_type": "text",
        "id": "view-in-github"
      },
      "source": [
        "<a href=\"https://colab.research.google.com/github/DhilipSanjay/Detection-of-Sensitive-Data-Exposure-in-Images/blob/main/Text_Classification.ipynb\" target=\"_parent\"><img src=\"https://colab.research.google.com/assets/colab-badge.svg\" alt=\"Open In Colab\"/></a>"
      ]
    },
    {
      "cell_type": "markdown",
      "metadata": {
        "id": "sM59X-o79RgC"
      },
      "source": [
        "# Text Classification to detect sensitive data exposure\n",
        "\n",
        "## Importing libraries and downloading the dataset"
      ]
    },
    {
      "cell_type": "code",
      "execution_count": 150,
      "metadata": {
        "colab": {
          "base_uri": "https://localhost:8080/"
        },
        "id": "leaIgZqWI9HX",
        "outputId": "70d435a6-1a95-4735-bd60-858f2a1199ed"
      },
      "outputs": [
        {
          "data": {
            "text/plain": [
              "'\\n# Downloading the dataset\\ngit_folder = \"/content/Detection-of-Sensitive-Data-Exposure-in-Images\"\\nif os.path.exists(git_folder) == False:\\n  !git clone https://github.com/DhilipSanjay/Detection-of-Sensitive-Data-Exposure-in-Images.git\\n\\ndataset_folder = git_folder + \"/text_dataset/\"\\nsensitive_datafile = \"SensitiveDataset.json\"\\nnonsensitive_datafile = \"NonSensitiveDataset.json\"\\n'"
            ]
          },
          "execution_count": 150,
          "metadata": {},
          "output_type": "execute_result"
        }
      ],
      "source": [
        "# Importing the necessary libraries\n",
        "import tensorflow as tf\n",
        "import json\n",
        "import os\n",
        "import random\n",
        "from sklearn.model_selection import train_test_split\n",
        "\n",
        "from tensorflow.keras.preprocessing.text import Tokenizer\n",
        "from tensorflow.keras.preprocessing.sequence import pad_sequences\n",
        "from tensorflow.keras.layers import Dense, Dropout\n",
        "from tensorflow.keras.regularizers import l2\n",
        "from tensorflow.keras.callbacks import EarlyStopping\n",
        "from tensorflow.keras.layers import BatchNormalization\n",
        "\n",
        "\"\"\"\n",
        "# Downloading the dataset\n",
        "git_folder = \"/content/Detection-of-Sensitive-Data-Exposure-in-Images\"\n",
        "if os.path.exists(git_folder) == False:\n",
        "  !git clone https://github.com/DhilipSanjay/Detection-of-Sensitive-Data-Exposure-in-Images.git\n",
        "\n",
        "dataset_folder = git_folder + \"/text_dataset/\"\n",
        "sensitive_datafile = \"SensitiveDataset.json\"\n",
        "nonsensitive_datafile = \"NonSensitiveDataset.json\"\n",
        "\"\"\""
      ]
    },
    {
      "cell_type": "code",
      "execution_count": 151,
      "metadata": {
        "id": "h_o7FrN_Jgr1"
      },
      "outputs": [],
      "source": [
        "# Necessary Variables\n",
        "vocab_size = 3000\n",
        "embedding_dim = 32\n",
        "max_length = 60\n",
        "truncation_type='post'\n",
        "padding_type='post'\n",
        "oov_tok = \"<OOV>\"\n",
        "training_size = 20000"
      ]
    },
    {
      "cell_type": "markdown",
      "metadata": {
        "id": "7i3YvPoe9ZaT"
      },
      "source": [
        "## Preprocessing the dataset"
      ]
    },
    {
      "cell_type": "code",
      "execution_count": 152,
      "metadata": {
        "colab": {
          "base_uri": "https://localhost:8080/"
        },
        "id": "vIUEAZOfJyy-",
        "outputId": "91c05886-e361-4a64-8bee-03a34dd84b43"
      },
      "outputs": [
        {
          "name": "stdout",
          "output_type": "stream",
          "text": [
            "Training Dataset Size:  16000\n",
            "Sample Training Data: ['card no:4073 8570 3877 6074, expiry month:aug-26, card holder name:ramaiyan  settu, cvv:126'\n",
            " \"An agent unspecified foreign power (John Miljan) plots take California confusion American Civil War. He uses Morrell Overland Raiders prevent news reaching east. The Raiders rustle stagecoach Pony Express horses various relay stations cut lines communication east. Bill Hickok sent one relay stations hopes able keep ponies raiders. Calamity Gabby, horse traders relay stations, ride Indian helpers just Bill finishes off last Raiders attacked post. Bill severely hurt Calamity Gabby stick around while.\\nDuring time, Bill’s old fiancée, Louise Mason, shows up. She wants make breaking engagement support Confederacy Bil's North. They agree forget war; Bill soon planning wedding. However, Marshal Evans, head communication lines, wants Bill take shipment gold east support Federal war effort.\\nBill knows it’s dangerous actually take himself, raiders sure get it, sends gold Gabby Calamity pretending take himself. The plan backfires Louise tells Tower Bill isn’t taking gold protect Bill attack. The Raiders attack Gabby get away gold. Bill gets worried Raiders don’t attack returns town see happened Gabby. The Marshal wants know went wrong Bill asks half hour find out. After leaves, Tower convinces men Bill really head Raiders getting away. Gabby overhears conversation rides warn Bill.\\nBill gets away time captured returns town search Tower’s office. Gabby helps escape see Tower escaping gold Raiders. Riding back posse pursued them, Bill convinces Marshal follow them. With Tower Raiders locked Civil War ended, Bill Louise finally get married.\"\n",
            " \"The plot concerns Beaumont, horse breeder penchant gambling, luck.[1] After losing poker forced give several horses cover losses, Beaumont bets loses horse, Virginia's Future, suddenly falls breaks leg leading pack critical race.[1][2] Beaumont's selfish wife tells horse's trainer, Mike Donovan, kill injured horse, abandons Beaumont Greve Carter, well-to-do neighbor. Beaumont also loses relationship Virginia,[1] daughter previous marriage. Beaumont Donovan manage save Virginia's Future, births colt[1] (or filly[2]) named Confederacy, financial troubles force sell off colt mare. Confederacy mistreated new owner, foreign junk dealer, Virginia's Future forced hard labor pack horse. But Confederacy later entered run Futurity, ridden Mike Donovan's son Danny,[1][2] Beaumont gathers everything can bets again. This time wins. He reunited daughter buys back colt, giving good life pasture.[1][2]\"\n",
            " ... 'number plate:tn 47 rz 4542'\n",
            " \"Joseph Foster (Thomas Mitchell) honest district attorney wants run governor order clean criminal underworld can't catch leader Frankie Faulkner (Fred Clark) no matter hard tries. One day smooth talking stranger named Nick Beal (Ray Milland) visits café beside docks makes deal him. Joseph begins rise power company prostitute Donna Allen (Audrey Totter) sent Nick seduce him. But gets contract help loving wife Martha, (Geraldine Wall) friend Reverend Thomas Garfield (George Macready).\"\n",
            " 'username:shirin, password:hersheys, email:shirin@bol.com.br, phone no:4798517318']\n",
            "Validation Dataset Size:  4000\n",
            "Sample Validation Data: ['username:augustin, password:yamaha, email:augustin@bol.com.br, phone no:3602748649'\n",
            " 'username:codi, password:marion, email:codi@bigpond.com, phone no:7799546798'\n",
            " \"The cow town Spurline effectively ruled Virgil Renchler (Welles), owner Golden Empire ranch.\\nOne night, Renchler's hands beat young laborer, Juan Martín, death. The newly elected sheriff Spurline, Ben Sadler (Chandler), decides investigate murder, must contend Renchler's henchmen fierce opposition townspeople, fear Spurline ruined without Golden Empire's business.\\nRanch foreman Ed Yates admits Renchler killed Martin, employee Chet Huneker persuaded tell law hit Martin accidentally car. Renchler's daughter, Skippy (Miller), tells sheriff remembers night Martin's death.\\nSadler beaten Yates Huneker, dragged town, tied back truck. Sadler gets shotgun, tosses aside badge and, help cropper Aiken Clay (Dano), goes Renchler men, defeating help townspeople, return Sadler's badge him.\"\n",
            " ...\n",
            " \"A comedy marriage everything relating it. New York novelist Henry Fonda meets actress, Margaret Sullavan, two date later marry, though neither knows other's fame. The real adventure begins honeymoon, screwball comedy really heats insults arguments.\"\n",
            " 'The film takes place period Austria controlled Italy Austro-Italian War 1830. Colonel Vultow, played Walter Pidgeon, leader Austrian cavalry regiment, sent Italy put revolt led Lombardian aristocracy. Vultow decides go castle Count Adrian Beltrami, played Allan Prior, one leaders revolution. This happens Beltrami\\'s wedding day. As emerging church following wedding Countess Anna-Marie (Vivienne Segal), Beltrami learns Colonel Vultow quickly approaching town search him. At behest bride, Beltrami flees castle, asks Tangy, silhouette cutter, impersonate protect Anna-Marie. When Adrian returns disguise, introduced Vultow singer silhouette cutter, count demands create silhouette, enlists Tangy\\'s aid. The deception discovered, Vultow sentences Adrian death firing squad unless Anna-Marie submits sexual demands.\\nEager save husband, Anna-Marie shows portrait great-grandmother Vultow explains woman wearing ermine cloak. Her ancestor killed man protect honor, countess fears will forced same. The painting comes life Anna-Marie\\'s great-grandmother steps frame embraces Vultow, now drunk champagne. He falls asleep dreams Anna-Marie willingly gives him, awakens, orders Adrian freed mistaken belief Anna-Marie now his. When Vultow receives news Italian troops advancing, departs, count countess reunited.\\nThe film full much Pre-Code humor ran censorship problems many areas.[2] The film drew large crowds Chicago played \"Adults Only\" feature. The soundtrack reveals amazingly suggestive dialogue. In one sequence, Myrna Loy (playing depraved dancer named Sophie) finds Vultow (Walter Pidgeon) previously fallen charms made love met Anna-Marie (Vivienne Segal) fallen charms completely forgotten her. Sophie declares \"I\\'ll get back! I\\'ll dance blood steaming!\" proceeds begin smoldering dance number top long dinner table seductive manner attempt lure back Vultow charms Anna-Marie. In another scene, Vultow conversation Anna-Marie. He believes sexual relations previous night. In reality, however, dozed off drinking much liquor dreamed entire episode. The conversation runs follows:'\n",
            " 'username:jessamyn, password:smithy, email:jessamyn@googlemail.com, phone no:345695346']\n"
          ]
        }
      ],
      "source": [
        "dataList = []\n",
        "sentences = []\n",
        "labels = []\n",
        "# Stopwords should be removed or excluded from the given text so that more\n",
        "# focus can be given to those words which define the meaning of the text.\n",
        "stopwords = [ \"a\", \"about\", \"above\", \"after\", \"again\", \"against\", \"all\", \"am\", \"an\", \"and\", \"any\", \"are\", \"as\", \"at\", \"be\", \"because\", \"been\", \"before\", \"being\", \"below\", \"between\", \"both\", \"but\", \"by\", \"could\", \"did\", \"do\", \"does\", \"doing\", \"down\", \"during\", \"each\", \"few\", \"for\", \"from\", \"further\", \"had\", \"has\", \"have\", \"having\", \"he\", \"he'd\", \"he'll\", \"he's\", \"her\", \"here\", \"here's\", \"hers\", \"herself\", \"him\", \"himself\", \"his\", \"how\", \"how's\", \"i\", \"i'd\", \"i'll\", \"i'm\", \"i've\", \"if\", \"in\", \"into\", \"is\", \"it\", \"it's\", \"its\", \"itself\", \"let's\", \"me\", \"more\", \"most\", \"my\", \"myself\", \"nor\", \"of\", \"on\", \"once\", \"only\", \"or\", \"other\", \"ought\", \"our\", \"ours\", \"ourselves\", \"out\", \"over\", \"own\", \"same\", \"she\", \"she'd\", \"she'll\", \"she's\", \"should\", \"so\", \"some\", \"such\", \"than\", \"that\", \"that's\", \"the\", \"their\", \"theirs\", \"them\", \"themselves\", \"then\", \"there\", \"there's\", \"these\", \"they\", \"they'd\", \"they'll\", \"they're\", \"they've\", \"this\", \"those\", \"through\", \"to\", \"too\", \"under\", \"until\", \"up\", \"very\", \"was\", \"we\", \"we'd\", \"we'll\", \"we're\", \"we've\", \"were\", \"what\", \"what's\", \"when\", \"when's\", \"where\", \"where's\", \"which\", \"while\", \"who\", \"who's\", \"whom\", \"why\", \"why's\", \"with\", \"would\", \"you\", \"you'd\", \"you'll\", \"you're\", \"you've\", \"your\", \"yours\", \"yourself\", \"yourselves\" ]\n",
        "\n",
        "def loadDataset(filename):\n",
        "  d=[]\n",
        "  with open(filename, 'r') as f:\n",
        "      datastore = json.load(f)\n",
        "  for item in datastore:\n",
        "    sentence = item['data']\n",
        "    label = item['is_sensitive']\n",
        "    for word in stopwords: #Remove stop words in  sentence\n",
        "      token = \" \" + word + \" \"\n",
        "      sentence = sentence.replace(token, \" \")\n",
        "    d.append([sentence,label])\n",
        "  return d\n",
        "# Loading both sensitive and non-sensitive dataset\n",
        "sen=loadDataset(\"SensitiveDataset.json\")\n",
        "nonsen=loadDataset(\"NonSensitiveDatasetnew.json\")\n",
        "import pandas as pd\n",
        "sen=pd.DataFrame(data=sen,columns=['sentences','labels'])\n",
        "nonsen=pd.DataFrame(data=nonsen,columns=['sentences','labels'])\n",
        "df= pd.concat([sen, nonsen], axis=0)\n",
        "df=df.sample(frac=1).reset_index(drop=True)\n",
        "df_sen=df[df['labels']==1]\n",
        "df_non=df[df['labels']==0]\n",
        "df_non_downsampled = df_non.sample(10000)\n",
        "df_sen_downsampled=df_sen.sample(10000)\n",
        "df_balanced = pd.concat([df_non_downsampled, df_sen_downsampled])\n",
        "# Splitting into features (X) and labels (y)\n",
        "X = df_balanced['sentences'].values\n",
        "y = df_balanced['labels'].values\n",
        "training_sentences, validation_sentences, training_labels, validation_labels= train_test_split(X,y,test_size=0.2,stratify=y)\n",
        "\n",
        "print(\"Training Dataset Size: \", len(training_sentences))\n",
        "print(\"Sample Training Data:\", training_sentences)\n",
        "print(\"Validation Dataset Size: \", len(validation_sentences))\n",
        "print(\"Sample Validation Data:\", validation_sentences)"
      ]
    },
    {
      "cell_type": "code",
      "execution_count": 153,
      "metadata": {
        "colab": {
          "base_uri": "https://localhost:8080/"
        },
        "id": "Kt01OaiEMbQ9",
        "outputId": "c03c713c-6a9b-4b35-ea31-f65d345bba61"
      },
      "outputs": [
        {
          "name": "stdout",
          "output_type": "stream",
          "text": [
            "Size of word index: 91000\n",
            "Saving the word index as JSON\n"
          ]
        }
      ],
      "source": [
        "# Tokenizer takes the num_words (here vocab_size = 3000) maximum occuring unique words from the dataset.\n",
        "# Anything out of these words will be treated as Out of Vocabulary(<oov>)\n",
        "# It strips the punctutations and removes upper-case letters.\n",
        "tokenizer = Tokenizer(num_words=vocab_size, oov_token=oov_tok)\n",
        "# Apply the tokenizer on training sentences and generate the word index\n",
        "# Eg: word_index[\"the\"] = 1; word_index[\"cat\"] = 2; etc.\n",
        "tokenizer.fit_on_texts(training_sentences)\n",
        "# Save the word index (Used for deploying in web application)\n",
        "word_index = tokenizer.word_index\n",
        "print(\"Size of word index:\", len(word_index))\n",
        "with open(\"word_index.json\", \"w\") as outfile:  \n",
        "    json.dump(word_index, outfile)\n",
        "    print(\"Saving the word index as JSON\")\n",
        "# Transforms each word in sentences to a sequence of integers based on the word_index\n",
        "training_sequences = tokenizer.texts_to_sequences(training_sentences)\n",
        "# To feed the text into neural network - sentences must be of the same length. Hence we'll be using padding.\n",
        "# If the sentences are smaller than the maxlen, then we'll pad (Here, we are using post padding)\n",
        "# If the sentences are larger than the maxlen, then we'll truncate (Here, we are using post truncation)\n",
        "training_padded = pad_sequences(training_sequences, maxlen=max_length, padding=padding_type, truncating=truncation_type)\n",
        "# Apply the same for validation data\n",
        "validation_sequences = tokenizer.texts_to_sequences(validation_sentences)\n",
        "validation_padded = pad_sequences(validation_sequences, maxlen=max_length, padding=padding_type, truncating=truncation_type)"
      ]
    },
    {
      "cell_type": "code",
      "execution_count": 154,
      "metadata": {
        "id": "SSHwIoCLPKPq"
      },
      "outputs": [],
      "source": [
        "# Convert to Numpy arrays, so as to get it to work with TensorFlow 2.x\n",
        "import numpy as np\n",
        "training_padded = np.array(training_padded)\n",
        "training_labels = np.array(training_labels)\n",
        "validation_padded = np.array(validation_padded)\n",
        "validation_labels = np.array(validation_labels)"
      ]
    },
    {
      "cell_type": "markdown",
      "metadata": {
        "id": "9OLtjmJw9ehH"
      },
      "source": [
        "## Model"
      ]
    },
    {
      "cell_type": "code",
      "execution_count": 155,
      "metadata": {
        "colab": {
          "base_uri": "https://localhost:8080/"
        },
        "id": "p5ADD9CuNFWB",
        "outputId": "7cf5a76d-b9fc-4268-b85c-588ba8ba18ea"
      },
      "outputs": [
        {
          "name": "stdout",
          "output_type": "stream",
          "text": [
            "Model: \"sequential_7\"\n",
            "_________________________________________________________________\n",
            " Layer (type)                Output Shape              Param #   \n",
            "=================================================================\n",
            " embedding_9 (Embedding)     (None, 60, 32)            96000     \n",
            "                                                                 \n",
            " batch_normalization_21 (Ba  (None, 60, 32)            128       \n",
            " tchNormalization)                                               \n",
            "                                                                 \n",
            " conv1d_7 (Conv1D)           (None, 58, 32)            3104      \n",
            "                                                                 \n",
            " dropout_8 (Dropout)         (None, 58, 32)            0         \n",
            "                                                                 \n",
            " batch_normalization_22 (Ba  (None, 58, 32)            128       \n",
            " tchNormalization)                                               \n",
            "                                                                 \n",
            " global_average_pooling1d_7  (None, 32)                0         \n",
            "  (GlobalAveragePooling1D)                                       \n",
            "                                                                 \n",
            " batch_normalization_23 (Ba  (None, 32)                128       \n",
            " tchNormalization)                                               \n",
            "                                                                 \n",
            " dense_16 (Dense)            (None, 16)                528       \n",
            "                                                                 \n",
            " dropout_9 (Dropout)         (None, 16)                0         \n",
            "                                                                 \n",
            " dense_17 (Dense)            (None, 1)                 17        \n",
            "                                                                 \n",
            "=================================================================\n",
            "Total params: 100033 (390.75 KB)\n",
            "Trainable params: 99841 (390.00 KB)\n",
            "Non-trainable params: 192 (768.00 Byte)\n",
            "_________________________________________________________________\n"
          ]
        }
      ],
      "source": [
        "# Callbacks to cancel training after reaching a desired accuracy\n",
        "# This is done to avoid overfitting\\\"\n",
        "\"\"\"\n",
        "DESIRED_ACCURACY = 0.99\n",
        "class myCallback(tf.keras.callbacks.Callback):\n",
        "  def on_epoch_end(self, epoch, logs={}):\n",
        "    if logs.get('accuracy') > DESIRED_ACCURACY:\n",
        "      print(\"Reached 99.9% accuracy so cancelling training!\")\n",
        "      self.model.stop_training = True\n",
        "callbacks = myCallback()\n",
        "\"\"\"\n",
        "early_stopping = EarlyStopping(monitor='val_loss', patience=5, restore_best_weights=True)\n",
        "\n",
        "# Sequential - defines a SEQUENCE of layers in the neural network.\n",
        "model = tf.keras.Sequential([\n",
        "    # Embedding - Turns positive integers (indexes) into dense vectors of fixed size (here embedding_dim = 32).\n",
        "    tf.keras.layers.Embedding(vocab_size, embedding_dim, input_length=max_length),\n",
        "    # 1D convolution layer - filter size = 128, convolution window = 5, activation fn = ReLU\n",
        "    tf.keras.layers.BatchNormalization(),\n",
        "    tf.keras.layers.Conv1D(32, 3, activation='relu'),\n",
        "    tf.keras.layers.Dropout(0.5),\n",
        "    # Global average pooling operation (Flattening)\n",
        "    tf.keras.layers.BatchNormalization(),\n",
        "    tf.keras.layers.GlobalAveragePooling1D(),\n",
        "    # Regular densely-connected Neural Network layer with ReLU activation function.\n",
        "    tf.keras.layers.BatchNormalization(),\n",
        "    tf.keras.layers.Dense(16, activation='relu',kernel_regularizer=l2(0.01)),\n",
        "    tf.keras.layers.Dropout(0.5),\n",
        "    # Regular densely-connected Neural Network layer with sigmoid activation function.\n",
        "    tf.keras.layers.Dense(1, activation='sigmoid')\n",
        "])\n",
        "\n",
        "# model.compile - Configures the model for training.\n",
        "model.compile(loss='binary_crossentropy',optimizer='adam',metrics=['accuracy'])\n",
        "# Adam -  optimization algorithm used instead of the classical stochastic gradient descent procedure to update network weights.\n",
        "\n",
        "# Display the summary of the model\n",
        "model.summary()"
      ]
    },
    {
      "cell_type": "markdown",
      "metadata": {
        "id": "mb2NlD159g8k"
      },
      "source": [
        "## Training"
      ]
    },
    {
      "cell_type": "code",
      "execution_count": 156,
      "metadata": {
        "colab": {
          "base_uri": "https://localhost:8080/"
        },
        "id": "7TP5ThxvNPK8",
        "outputId": "1db2817f-845e-4340-f404-df4edfd414ae"
      },
      "outputs": [
        {
          "name": "stdout",
          "output_type": "stream",
          "text": [
            "Epoch 1/5\n",
            "500/500 [==============================] - 6s 8ms/step - loss: 0.2823 - accuracy: 0.9641 - val_loss: 0.3948 - val_accuracy: 0.8685\n",
            "Epoch 2/5\n",
            "500/500 [==============================] - 4s 9ms/step - loss: 0.0726 - accuracy: 0.9984 - val_loss: 0.0255 - val_accuracy: 0.9995\n",
            "Epoch 3/5\n",
            "500/500 [==============================] - 4s 7ms/step - loss: 0.0438 - accuracy: 0.9988 - val_loss: 0.0136 - val_accuracy: 0.9995\n",
            "Epoch 4/5\n",
            "500/500 [==============================] - 4s 8ms/step - loss: 0.0322 - accuracy: 0.9986 - val_loss: 0.0096 - val_accuracy: 0.9995\n",
            "Epoch 5/5\n",
            "500/500 [==============================] - 4s 8ms/step - loss: 0.0258 - accuracy: 0.9994 - val_loss: 0.0092 - val_accuracy: 0.9992\n"
          ]
        }
      ],
      "source": [
        "num_epochs = 5\n",
        "\n",
        "# model.fit - Train the model for a fixed number of epochs\n",
        "history = model.fit(training_padded, \n",
        "                    training_labels, \n",
        "                    epochs=num_epochs, \n",
        "                    validation_data=(\n",
        "                        validation_padded, \n",
        "                        validation_labels), \n",
        "                    verbose=1)\n",
        "                    #callbacks=[callbacks])"
      ]
    },
    {
      "cell_type": "markdown",
      "metadata": {
        "id": "poN5h1SD9tiE"
      },
      "source": [
        "## Plotting Accuracy and Loss Functions"
      ]
    },
    {
      "cell_type": "code",
      "execution_count": 157,
      "metadata": {
        "colab": {
          "base_uri": "https://localhost:8080/",
          "height": 542
        },
        "id": "WCDbITWsNWlI",
        "outputId": "b96fcbf4-f236-4f22-a4c4-84e157cca63c"
      },
      "outputs": [
        {
          "data": {
            "image/png": "[encoded data removed]",
            "text/plain": [
              "<Figure size 640x480 with 1 Axes>"
            ]
          },
          "metadata": {},
          "output_type": "display_data"
        },
        {
          "data": {
            "image/png": "[encoded data removed]",
            "text/plain": [
              "<Figure size 640x480 with 1 Axes>"
            ]
          },
          "metadata": {},
          "output_type": "display_data"
        }
      ],
      "source": [
        "import matplotlib.pyplot as plt\n",
        "\n",
        "# Plot the accuracy and loss functions\n",
        "def plot_graphs(history, string):\n",
        "  plt.plot(history.history[string])\n",
        "  plt.plot(history.history['val_'+string])\n",
        "  plt.xlabel(\"Epochs\")\n",
        "  plt.ylabel(string)\n",
        "  plt.legend([string, 'val_'+string])\n",
        "  plt.show()\n",
        "  \n",
        "plot_graphs(history, \"accuracy\")\n",
        "plot_graphs(history, \"loss\")"
      ]
    },
    {
      "cell_type": "markdown",
      "metadata": {
        "id": "z9ymTQswYUQz"
      },
      "source": [
        "## Confusion Matrix"
      ]
    },
    {
      "cell_type": "code",
      "execution_count": 158,
      "metadata": {
        "colab": {
          "base_uri": "https://localhost:8080/",
          "height": 1000
        },
        "id": "tVdCGN-tYXqX",
        "outputId": "609a920b-9292-4bab-c967-e9f5dfa83c34"
      },
      "outputs": [
        {
          "name": "stdout",
          "output_type": "stream",
          "text": [
            "Confusion Matrix\n",
            "125/125 [==============================] - 0s 2ms/step\n",
            "Threshold [0.50000244]\n",
            "Accuracy for Test Data =  99.925\n"
          ]
        },
        {
          "data": {
            "text/plain": [
              "Text(95.72222222222221, 0.5, 'Expected')"
            ]
          },
          "execution_count": 158,
          "metadata": {},
          "output_type": "execute_result"
        },
        {
          "data": {
            "image/png": "[encoded data removed]",
            "text/plain": [
              "<Figure size 1000x700 with 2 Axes>"
            ]
          },
          "metadata": {},
          "output_type": "display_data"
        }
      ],
      "source": [
        "import seaborn\n",
        "import pandas as pd\n",
        "print('Confusion Matrix')\n",
        "y_predicted = model.predict(validation_padded)\n",
        "print(\"Threshold\",(min(y_predicted)+max(y_predicted))/2)\n",
        "y_predicted_labels = y_predicted > 0.5\n",
        "#print(y_predicted_labels)\n",
        "size = np.size(y_predicted_labels)\n",
        "y_predicted_labels = y_predicted_labels.reshape(size, )\n",
        "\"\"\"\n",
        "for i in range (1, 5):\n",
        "  total = i * size // 4\n",
        "  cm = tf.math.confusion_matrix(labels=validation_labels[0:total],predictions=y_predicted_labels[0:total])\n",
        "\n",
        "  # Calculate accuracy\n",
        "  cm_np = cm.numpy()\n",
        "  conf_acc = (cm_np[0, 0] + cm_np[1, 1])/ np.sum(cm_np) * 100\n",
        "  print(\"Accuracy for\", str(total), \"Test Data = \", conf_acc)\n",
        "\n",
        "  # Plot the confusion matrix\n",
        "  plt.figure(figsize = (10,7))\n",
        "  seaborn.heatmap(cm, annot=True, fmt='d')\n",
        "  plt.title(\"Confusion Matrix for \" + str(total) + \" Test Data\")\n",
        "  plt.xlabel('Predicted')\n",
        "  plt.ylabel('Expected')\n",
        "  \"\"\"\n",
        "cm = tf.math.confusion_matrix(validation_labels,y_predicted_labels)\n",
        "cm_np = cm.numpy()\n",
        "conf_acc = ((cm_np[0, 0] + cm_np[1, 1])/ np.sum(cm_np)) * 100\n",
        "print(\"Accuracy for Test Data = \", conf_acc)\n",
        "plt.figure(figsize = (10,7))\n",
        "seaborn.heatmap(cm, annot=True, fmt='d')\n",
        "plt.title(\"Confusion Matrix for Test Data\")\n",
        "plt.xlabel('Predicted')\n",
        "plt.ylabel('Expected')"
      ]
    },
    {
      "cell_type": "code",
      "execution_count": 159,
      "metadata": {},
      "outputs": [
        {
          "name": "stdout",
          "output_type": "stream",
          "text": [
            "Accuracy Score: 99.925\n"
          ]
        }
      ],
      "source": [
        "from sklearn.metrics import classification_report,accuracy_score\n",
        "report = classification_report(validation_labels,y_predicted_labels)\n",
        "#print(\"Classification Report:\\n\", report)\n",
        "print(\"Accuracy Score:\", accuracy_score(validation_labels,y_predicted_labels)*100)"
      ]
    },
    {
      "cell_type": "markdown",
      "metadata": {
        "id": "plgECuQc9wdt"
      },
      "source": [
        "## Sample Example"
      ]
    },
    {
      "cell_type": "code",
      "execution_count": 160,
      "metadata": {
        "colab": {
          "base_uri": "https://localhost:8080/"
        },
        "id": "Kyfb-NtpNV7h",
        "outputId": "05c0b5d9-457a-48eb-d1d9-414adf34007c"
      },
      "outputs": [
        {
          "name": "stdout",
          "output_type": "stream",
          "text": [
            "1/1 [==============================] - 0s 86ms/step\n",
            "0.9506702\n",
            "Sensitive - Sr No\n",
            "0.998779\n",
            "Sensitive -  Blood Bank Name\n",
            "0.887015\n",
            "Sensitive -  State\n",
            "0.8727274\n",
            "Non-Sensitive -  District\n",
            "0.8656015\n",
            "Non-Sensitive -  City\n",
            "0.8714122\n",
            "Non-Sensitive -  Address\n",
            "0.9014691\n",
            "Sensitive - Pincode\n",
            "0.9577206\n",
            "Sensitive -  Contact No\n",
            "0.96666366\n",
            "Sensitive - phone\n",
            "0.9014691\n",
            "Sensitive -  Helpline\n",
            "0.9014691\n",
            "Sensitive -  Fax\n",
            "0.9451342\n",
            "Sensitive -  Email\n",
            "0.9014691\n",
            "Sensitive -  Website\n",
            "0.86192554\n",
            "Non-Sensitive -  Nodal Officer \n",
            "0.8441931\n",
            "Non-Sensitive -  Contact Nodal Officer\n",
            "0.82856035\n",
            "Non-Sensitive -  Mobile Nodal Officer\n",
            "0.90866494\n",
            "Sensitive -  Email Nodal Officer\n",
            "0.82856035\n",
            "Non-Sensitive -  Qualification Nodal Officer\n",
            "0.9014691\n",
            "Sensitive -  Category\n",
            "0.8508784\n",
            "Non-Sensitive -  Blood Component Available\n",
            "0.9014691\n",
            "Sensitive -  Apheresis\n",
            "0.8567828\n",
            "Non-Sensitive -  Service Time\n",
            "0.9014691\n",
            "Sensitive -  License #\n",
            "0.88430804\n",
            "Sensitive -  Date License Obtained\n",
            "0.8996585\n",
            "Sensitive -  Date of Renewal\n",
            "0.9014691\n",
            "Sensitive -  Latitude\n",
            "0.9014691\n",
            "Sensitive -  Longitude\n"
          ]
        }
      ],
      "source": [
        "# Sample examples\n",
        "sentence = ['Sr No', ' Blood Bank Name', ' State', ' District', ' City', ' Address',             \n",
        "       'Pincode', ' Contact No', 'phone', ' Helpline', ' Fax', ' Email',                 \n",
        "       ' Website', ' Nodal Officer ', ' Contact Nodal Officer',                   \n",
        "       ' Mobile Nodal Officer', ' Email Nodal Officer',                              \n",
        "       ' Qualification Nodal Officer', ' Category',                                       \n",
        "       ' Blood Component Available', ' Apheresis', ' Service Time',                             \n",
        "       ' License #', ' Date License Obtained', ' Date of Renewal', ' Latitude',                   \n",
        "       ' Longitude']\n",
        "sequences = tokenizer.texts_to_sequences(sentence)\n",
        "padded = pad_sequences(sequences, maxlen=max_length, padding=padding_type, truncating=truncation_type)\n",
        "predictions = model.predict(padded)\n",
        "for i in range(len(predictions)):\n",
        "  print(predictions[i][0])\n",
        "  if predictions[i][0]>0.88:\n",
        "    print(\"Sensitive - \"+ sentence[i])\n",
        "  else:\n",
        "    print(\"Non-Sensitive - \" + sentence[i] )"
      ]
    },
    {
      "cell_type": "code",
      "execution_count": 161,
      "metadata": {},
      "outputs": [
        {
          "name": "stdout",
          "output_type": "stream",
          "text": [
            "['Sr No', ' Blood Bank Name', ' State', 'Pincode', ' Contact No', ' Mobile', ' Helpline', ' Fax', ' Email', ' Website', ' Email Nodal Officer', ' Category', ' Apheresis', ' License #', ' Date License Obtained', ' Date of Renewal', ' Latitude', ' Longitude']\n",
            "Model Saved\n"
          ]
        },
        {
          "name": "stderr",
          "output_type": "stream",
          "text": [
            "c:\\Users\\LAKSHMI SRI LASYA\\AppData\\Local\\Programs\\Python\\Python311\\Lib\\site-packages\\keras\\src\\engine\\training.py:3103: UserWarning: You are saving your model as an HDF5 file via `model.save()`. This file format is considered legacy. We recommend using instead the native Keras format, e.g. `model.save('my_model.keras')`.\n",
            "  saving_api.save_model(\n"
          ]
        }
      ],
      "source": [
        "df=pd.read_csv('blood-banks.csv',encoding='latin1')\n",
        "#identify sensitive columns\n",
        "sensitive_columns = []\n",
        "for i in range(len(predictions)):\n",
        "  if predictions[i][0]>0.88:\n",
        "    sensitive_columns.append(df.columns[i])\n",
        "print(sensitive_columns)\n",
        "#implemt any encryption technique to protect the sensitive data\n",
        "#save the model\n",
        "model.save('model.h5')\n",
        "print(\"Model Saved\")\n"
      ]
    },
    {
      "cell_type": "code",
      "execution_count": 162,
      "metadata": {},
      "outputs": [
        {
          "name": "stdout",
          "output_type": "stream",
          "text": [
            "Data Encrypted and Saved\n",
            "Data Decrypted and Saved\n",
            "Model Saved\n"
          ]
        },
        {
          "name": "stderr",
          "output_type": "stream",
          "text": [
            "c:\\Users\\LAKSHMI SRI LASYA\\AppData\\Local\\Programs\\Python\\Python311\\Lib\\site-packages\\keras\\src\\engine\\training.py:3103: UserWarning: You are saving your model as an HDF5 file via `model.save()`. This file format is considered legacy. We recommend using instead the native Keras format, e.g. `model.save('my_model.keras')`.\n",
            "  saving_api.save_model(\n"
          ]
        }
      ],
      "source": [
        "from cryptography.fernet import Fernet\n",
        "\n",
        "df_sen = df[sensitive_columns]\n",
        "df_sen.to_csv('sensitive_data.csv',index=False)\n",
        "df_sen = pd.read_csv('sensitive_data.csv')\n",
        "# Generate a key\n",
        "key = Fernet.generate_key()\n",
        "\n",
        "# Save the key to a file\n",
        "with open(\"key.key\", \"wb\") as key_file:\n",
        "    key_file.write(key)\n",
        "\n",
        "# Load the key from the file\n",
        "with open(\"key.key\", \"rb\") as key_file:\n",
        "    key = key_file.read()\n",
        "\n",
        "# Create a cipher suite\n",
        "cipher_suite = Fernet(key)\n",
        "\n",
        "# Encrypt the data\n",
        "cipher_text = cipher_suite.encrypt(df_sen.to_csv().encode())\n",
        "\n",
        "# Save the encrypted data to a file\n",
        "with open(\"blood-banks.csv.encrypted\", \"wb\") as file:\n",
        "    file.write(cipher_text)\n",
        "print(\"Data Encrypted and Saved\")\n",
        "\n",
        "# Load the encrypted data from the file\n",
        "with open(\"blood-banks.csv.encrypted\", \"rb\") as file:\n",
        "    cipher_text = file.read()\n",
        "\n",
        "# Decrypt the data\n",
        "plain_text = cipher_suite.decrypt(cipher_text)\n",
        "\n",
        "# Save the decrypted data to a file\n",
        "with open(\"blood-banks.csv.decrypted\", \"wb\") as file:\n",
        "    file.write(plain_text)\n",
        "print(\"Data Decrypted and Saved\")\n",
        "\n",
        "# Save the model\n",
        "model.save(\"model.h5\")\n",
        "print(\"Model Saved\")\n",
        "\n"
      ]
    },
    {
      "cell_type": "code",
      "execution_count": 70,
      "metadata": {},
      "outputs": [
        {
          "data": {
            "text/plain": [
              "'\\nimport re\\nimport nltk\\nfrom nltk.tokenize import word_tokenize\\nfrom tensorflow import keras\\nfrom tensorflow.keras.layers import Flatten\\n# Load the CNN model\\n\\n\\n# Function to extract sensitive text from a file\\ndef extract_sensitive_text(file_path):\\n    # Read the file content\\n    with open(file_path, \\'r\\') as file:\\n         text = file.read().replace(\\'\\n\\', \\'\\')\\n    words = text.split(\\' \\')\\n\\n    # Convert words to integer indices\\n    tokenizer = Tokenizer()\\n    tokenizer.fit_on_texts(words)\\n    sequences = tokenizer.texts_to_sequences(words)\\n\\n     # Pad sequences to ensure consistent length\\n    data = pad_sequences(sequences)\\n\\n     # Reshape data to 3D for CNN\\n    data = data.reshape((data.shape[0], data.shape[1], 1))\\n\\n    model.add(Flatten())\\n    # Pass the tokenized words to the CNN model for prediction\\n    predictions = model.predict(data)\\n\\n    # Identify sensitive data based on the model\\'s predictions\\n    sensitive_text = [word for word, prediction in zip(words, predictions) if prediction == 1]\\n\\n    return sensitive_text\\n\\n# Get user input for the file path\\nfile_path = input(\"Enter the file path: \")\\n\\n# Extract sensitive text from the file\\nsensitive_text = extract_sensitive_text(file_path)\\n\\n# Print the extracted sensitive text\\nprint(\"Sensitive Text:\")\\nfor word in sensitive_text:\\n    print(word)\\n'"
            ]
          },
          "execution_count": 70,
          "metadata": {},
          "output_type": "execute_result"
        }
      ],
      "source": [
        "\"\"\"\n",
        "import re\n",
        "import nltk\n",
        "from nltk.tokenize import word_tokenize\n",
        "from tensorflow import keras\n",
        "from tensorflow.keras.layers import Flatten\n",
        "# Load the CNN model\n",
        "\n",
        "\n",
        "# Function to extract sensitive text from a file\n",
        "def extract_sensitive_text(file_path):\n",
        "    # Read the file content\n",
        "    with open(file_path, 'r') as file:\n",
        "         text = file.read().replace('\\n', '')\n",
        "    words = text.split(' ')\n",
        "\n",
        "    # Convert words to integer indices\n",
        "    tokenizer = Tokenizer()\n",
        "    tokenizer.fit_on_texts(words)\n",
        "    sequences = tokenizer.texts_to_sequences(words)\n",
        "\n",
        "     # Pad sequences to ensure consistent length\n",
        "    data = pad_sequences(sequences)\n",
        "\n",
        "     # Reshape data to 3D for CNN\n",
        "    data = data.reshape((data.shape[0], data.shape[1], 1))\n",
        "\n",
        "    model.add(Flatten())\n",
        "    # Pass the tokenized words to the CNN model for prediction\n",
        "    predictions = model.predict(data)\n",
        "\n",
        "    # Identify sensitive data based on the model's predictions\n",
        "    sensitive_text = [word for word, prediction in zip(words, predictions) if prediction == 1]\n",
        "\n",
        "    return sensitive_text\n",
        "\n",
        "# Get user input for the file path\n",
        "file_path = input(\"Enter the file path: \")\n",
        "\n",
        "# Extract sensitive text from the file\n",
        "sensitive_text = extract_sensitive_text(file_path)\n",
        "\n",
        "# Print the extracted sensitive text\n",
        "print(\"Sensitive Text:\")\n",
        "for word in sensitive_text:\n",
        "    print(word)\n",
        "\"\"\""
      ]
    },
    {
      "cell_type": "code",
      "execution_count": 71,
      "metadata": {},
      "outputs": [
        {
          "name": "stdout",
          "output_type": "stream",
          "text": [
            "1/1 [==============================] - 0s 150ms/step\n",
            "[[9.9993145e-01]\n",
            " [1.5967459e-03]\n",
            " [6.2404603e-01]\n",
            " [5.2909993e-02]\n",
            " [9.9999613e-01]\n",
            " [3.5937645e-10]\n",
            " [8.7958264e-01]\n",
            " [9.6779609e-01]\n",
            " [2.5625437e-01]\n",
            " [1.0000000e+00]\n",
            " [9.9999118e-01]\n",
            " [9.9205548e-01]\n",
            " [3.9321694e-01]\n",
            " [8.8759899e-01]\n",
            " [3.1213811e-01]]\n",
            "0.99993145\n",
            "Sensitive - Name\n",
            "0.0015967459\n",
            "Non-Sensitive - Age\n",
            "0.624046\n",
            "Non-Sensitive - Gender\n",
            "0.052909993\n",
            "Non-Sensitive - Blood Type\n",
            "0.9999961\n",
            "Sensitive - Medical Condition\n",
            "3.5937645e-10\n",
            "Non-Sensitive - Date of Admission\n",
            "0.87958264\n",
            "Non-Sensitive - Doctor\n",
            "0.9677961\n",
            "Sensitive - Hospital\n",
            "0.25625437\n",
            "Non-Sensitive - Insurance Provider\n",
            "1.0\n",
            "Sensitive - Billing Amount\n",
            "0.9999912\n",
            "Sensitive - Room Number\n",
            "0.9920555\n",
            "Sensitive - Admission Type\n",
            "0.39321694\n",
            "Non-Sensitive - Discharge Date\n",
            "0.887599\n",
            "Sensitive - Medication\n",
            "0.3121381\n",
            "Non-Sensitive - Test Results\n"
          ]
        }
      ],
      "source": [
        "import pandas as pd\n",
        "from nltk.tokenize import word_tokenize\n",
        "import numpy as np\n",
        "\n",
        "def process_csv(file_path):\n",
        "    df = pd.read_csv(file_path, encoding='latin1')  # Specify the encoding parameter\n",
        "    feature_names = df.columns.tolist()\n",
        "    return feature_names\n",
        "\n",
        "def process_txt(file_path):\n",
        "    with open(file_path, 'r', encoding='latin1') as file:  # Specify the encoding parameter\n",
        "        text = file.read()\n",
        "    tokens = word_tokenize(text)\n",
        "    return tokens\n",
        "\n",
        "def process_json(file_path):\n",
        "    # Add your code to process JSON files here\n",
        "    pass\n",
        "\n",
        "def process_file(file_path):\n",
        "    if file_path.endswith('.csv'):\n",
        "        feature_names = process_csv(file_path)\n",
        "        return feature_names\n",
        "    elif file_path.endswith('.txt'):\n",
        "        tokens = process_txt(file_path)\n",
        "        return tokens\n",
        "    elif file_path.endswith('.json'):\n",
        "        # Add your code to process JSON files here\n",
        "        pass\n",
        "    else:\n",
        "        print(\"Unsupported file format.\")\n",
        "\n",
        "# Get the file path from the user\n",
        "file_path = input(\"Enter the path of the file: \")\n",
        "\n",
        "# Process the file\n",
        "features = process_file(file_path)\n",
        "\n",
        "# Pass the features as input for the model\n",
        "\n",
        "# Convert the list to a numpy array\n",
        "data_array = np.array(features)\n",
        "\n",
        "# Reshape the array to match the input shape expected by the model\n",
        "data_input = data_array.reshape(1, -1)\n",
        "\n",
        "from keras.preprocessing.text import Tokenizer\n",
        "from keras.preprocessing.sequence import pad_sequences\n",
        "\n",
        "# Tokenization\n",
        "tokenizer = Tokenizer()\n",
        "tokenizer.fit_on_texts(features)\n",
        "\n",
        "# Encoding\n",
        "sequences = tokenizer.texts_to_sequences(features)\n",
        "\n",
        "# Find the length of the longest sequence\n",
        "max_length = max(len(sequence) for sequence in sequences)\n",
        "\n",
        "data_input = pad_sequences(sequences, maxlen=max_length)\n",
        "\n",
        "# Make predictions using the model\n",
        "preds = model.predict(data_input)\n",
        "\n",
        "# Print the predictions\n",
        "print(preds)\n",
        "\n",
        "for i in range(len(preds)):\n",
        "  print(preds[i][0])\n",
        "  if preds[i][0]>0.88:\n",
        "    print(\"Sensitive - \"+ features[i])\n",
        "  else:\n",
        "    print(\"Non-Sensitive - \" + features[i] )"
      ]
    },
    {
      "cell_type": "markdown",
      "metadata": {},
      "source": [
        "Healthcare dataset"
      ]
    },
    {
      "cell_type": "code",
      "execution_count": 95,
      "metadata": {},
      "outputs": [
        {
          "data": {
            "text/html": [
              "<div>\n",
              "<style scoped>\n",
              "    .dataframe tbody tr th:only-of-type {\n",
              "        vertical-align: middle;\n",
              "    }\n",
              "\n",
              "    .dataframe tbody tr th {\n",
              "        vertical-align: top;\n",
              "    }\n",
              "\n",
              "    .dataframe thead th {\n",
              "        text-align: right;\n",
              "    }\n",
              "</style>\n",
              "<table border=\"1\" class=\"dataframe\">\n",
              "  <thead>\n",
              "    <tr style=\"text-align: right;\">\n",
              "      <th></th>\n",
              "      <th>Name</th>\n",
              "      <th>Age</th>\n",
              "      <th>Gender</th>\n",
              "      <th>Blood Type</th>\n",
              "      <th>Medical Condition</th>\n",
              "      <th>Date of Admission</th>\n",
              "      <th>Doctor</th>\n",
              "      <th>Hospital</th>\n",
              "      <th>Insurance Provider</th>\n",
              "      <th>Billing Amount</th>\n",
              "      <th>Room Number</th>\n",
              "      <th>Admission Type</th>\n",
              "      <th>Discharge Date</th>\n",
              "      <th>Medication</th>\n",
              "      <th>Test Results</th>\n",
              "    </tr>\n",
              "  </thead>\n",
              "  <tbody>\n",
              "    <tr>\n",
              "      <th>0</th>\n",
              "      <td>Tiffany Ramirez</td>\n",
              "      <td>81</td>\n",
              "      <td>Female</td>\n",
              "      <td>O-</td>\n",
              "      <td>Diabetes</td>\n",
              "      <td>2022-11-17</td>\n",
              "      <td>Patrick Parker</td>\n",
              "      <td>Wallace-Hamilton</td>\n",
              "      <td>Medicare</td>\n",
              "      <td>37490.983364</td>\n",
              "      <td>146</td>\n",
              "      <td>Elective</td>\n",
              "      <td>2022-12-01</td>\n",
              "      <td>Aspirin</td>\n",
              "      <td>Inconclusive</td>\n",
              "    </tr>\n",
              "    <tr>\n",
              "      <th>1</th>\n",
              "      <td>Ruben Burns</td>\n",
              "      <td>35</td>\n",
              "      <td>Male</td>\n",
              "      <td>O+</td>\n",
              "      <td>Asthma</td>\n",
              "      <td>2023-06-01</td>\n",
              "      <td>Diane Jackson</td>\n",
              "      <td>Burke, Griffin and Cooper</td>\n",
              "      <td>UnitedHealthcare</td>\n",
              "      <td>47304.064845</td>\n",
              "      <td>404</td>\n",
              "      <td>Emergency</td>\n",
              "      <td>2023-06-15</td>\n",
              "      <td>Lipitor</td>\n",
              "      <td>Normal</td>\n",
              "    </tr>\n",
              "    <tr>\n",
              "      <th>2</th>\n",
              "      <td>Chad Byrd</td>\n",
              "      <td>61</td>\n",
              "      <td>Male</td>\n",
              "      <td>B-</td>\n",
              "      <td>Obesity</td>\n",
              "      <td>2019-01-09</td>\n",
              "      <td>Paul Baker</td>\n",
              "      <td>Walton LLC</td>\n",
              "      <td>Medicare</td>\n",
              "      <td>36874.896997</td>\n",
              "      <td>292</td>\n",
              "      <td>Emergency</td>\n",
              "      <td>2019-02-08</td>\n",
              "      <td>Lipitor</td>\n",
              "      <td>Normal</td>\n",
              "    </tr>\n",
              "    <tr>\n",
              "      <th>3</th>\n",
              "      <td>Antonio Frederick</td>\n",
              "      <td>49</td>\n",
              "      <td>Male</td>\n",
              "      <td>B-</td>\n",
              "      <td>Asthma</td>\n",
              "      <td>2020-05-02</td>\n",
              "      <td>Brian Chandler</td>\n",
              "      <td>Garcia Ltd</td>\n",
              "      <td>Medicare</td>\n",
              "      <td>23303.322092</td>\n",
              "      <td>480</td>\n",
              "      <td>Urgent</td>\n",
              "      <td>2020-05-03</td>\n",
              "      <td>Penicillin</td>\n",
              "      <td>Abnormal</td>\n",
              "    </tr>\n",
              "    <tr>\n",
              "      <th>4</th>\n",
              "      <td>Mrs. Brandy Flowers</td>\n",
              "      <td>51</td>\n",
              "      <td>Male</td>\n",
              "      <td>O-</td>\n",
              "      <td>Arthritis</td>\n",
              "      <td>2021-07-09</td>\n",
              "      <td>Dustin Griffin</td>\n",
              "      <td>Jones, Brown and Murray</td>\n",
              "      <td>UnitedHealthcare</td>\n",
              "      <td>18086.344184</td>\n",
              "      <td>477</td>\n",
              "      <td>Urgent</td>\n",
              "      <td>2021-08-02</td>\n",
              "      <td>Paracetamol</td>\n",
              "      <td>Normal</td>\n",
              "    </tr>\n",
              "  </tbody>\n",
              "</table>\n",
              "</div>"
            ],
            "text/plain": [
              "                  Name  Age  Gender Blood Type Medical Condition  \\\n",
              "0      Tiffany Ramirez   81  Female         O-          Diabetes   \n",
              "1          Ruben Burns   35    Male         O+            Asthma   \n",
              "2            Chad Byrd   61    Male         B-           Obesity   \n",
              "3    Antonio Frederick   49    Male         B-            Asthma   \n",
              "4  Mrs. Brandy Flowers   51    Male         O-         Arthritis   \n",
              "\n",
              "  Date of Admission          Doctor                   Hospital  \\\n",
              "0        2022-11-17  Patrick Parker           Wallace-Hamilton   \n",
              "1        2023-06-01   Diane Jackson  Burke, Griffin and Cooper   \n",
              "2        2019-01-09      Paul Baker                 Walton LLC   \n",
              "3        2020-05-02  Brian Chandler                 Garcia Ltd   \n",
              "4        2021-07-09  Dustin Griffin    Jones, Brown and Murray   \n",
              "\n",
              "  Insurance Provider  Billing Amount  Room Number Admission Type  \\\n",
              "0           Medicare    37490.983364          146       Elective   \n",
              "1   UnitedHealthcare    47304.064845          404      Emergency   \n",
              "2           Medicare    36874.896997          292      Emergency   \n",
              "3           Medicare    23303.322092          480         Urgent   \n",
              "4   UnitedHealthcare    18086.344184          477         Urgent   \n",
              "\n",
              "  Discharge Date   Medication  Test Results  \n",
              "0     2022-12-01      Aspirin  Inconclusive  \n",
              "1     2023-06-15      Lipitor        Normal  \n",
              "2     2019-02-08      Lipitor        Normal  \n",
              "3     2020-05-03   Penicillin      Abnormal  \n",
              "4     2021-08-02  Paracetamol        Normal  "
            ]
          },
          "execution_count": 95,
          "metadata": {},
          "output_type": "execute_result"
        }
      ],
      "source": [
        "df=pd.read_csv('healthcare_dataset.csv')\n",
        "df.head()"
      ]
    },
    {
      "cell_type": "code",
      "execution_count": 96,
      "metadata": {},
      "outputs": [
        {
          "data": {
            "text/plain": [
              "Index(['Name', 'Age', 'Gender', 'Blood Type', 'Medical Condition',\n",
              "       'Date of Admission', 'Doctor', 'Hospital', 'Insurance Provider',\n",
              "       'Billing Amount', 'Room Number', 'Admission Type', 'Discharge Date',\n",
              "       'Medication', 'Test Results'],\n",
              "      dtype='object')"
            ]
          },
          "execution_count": 96,
          "metadata": {},
          "output_type": "execute_result"
        }
      ],
      "source": [
        "# make name,age,medical condition,doctor,hospital,medication,test results as sensitive\n",
        "# make remaining as non-sensitive\n",
        "df.columns"
      ]
    },
    {
      "cell_type": "code",
      "execution_count": 97,
      "metadata": {},
      "outputs": [],
      "source": [
        "import pandas as pd\n",
        "import json\n",
        "\n",
        "# Assuming df is your DataFrame\n",
        "sensitive_columns = ['Name', 'Age', 'Medical Condition', 'Doctor', 'Hospital', 'Medication', 'Test Results','Billing Amount']\n",
        "\n",
        "json_list = []\n",
        "\n",
        "for _, row in df.iterrows():\n",
        "    data_str = ', '.join(f'{column}:{row[column]}' for column in sensitive_columns)\n",
        "    json_list.append({\"is_sensitive\": 1, \"data\": data_str})\n",
        "\n",
        "# Save to JSON file\n",
        "with open('data.json', 'w') as f:\n",
        "    json.dump(json_list, f)"
      ]
    },
    {
      "cell_type": "code",
      "execution_count": 98,
      "metadata": {},
      "outputs": [],
      "source": [
        "non_sensitive_columns = [col for col in df.columns if col not in sensitive_columns]\n",
        "\n",
        "json_list = []\n",
        "\n",
        "for _, row in df.iterrows():\n",
        "    data_str = ', '.join(f'{column}:{row[column]}' for column in non_sensitive_columns)\n",
        "    json_list.append({\"is_sensitive\": 0, \"data\": data_str})\n",
        "\n",
        "# Save to JSON file\n",
        "with open('non_sensitive_data.json', 'w') as f:\n",
        "    json.dump(json_list, f)"
      ]
    },
    {
      "cell_type": "code",
      "execution_count": 99,
      "metadata": {},
      "outputs": [],
      "source": [
        "dataList = []\n",
        "sentences = []\n",
        "labels = []\n",
        "# Stopwords should be removed or excluded from the given text so that more\n",
        "# focus can be given to those words which define the meaning of the text.\n",
        "stopwords = [ \"a\", \"about\", \"above\", \"after\", \"again\", \"against\", \"all\", \"am\", \"an\", \"and\", \"any\", \"are\", \"as\", \"at\", \"be\", \"because\", \"been\", \"before\", \"being\", \"below\", \"between\", \"both\", \"but\", \"by\", \"could\", \"did\", \"do\", \"does\", \"doing\", \"down\", \"during\", \"each\", \"few\", \"for\", \"from\", \"further\", \"had\", \"has\", \"have\", \"having\", \"he\", \"he'd\", \"he'll\", \"he's\", \"her\", \"here\", \"here's\", \"hers\", \"herself\", \"him\", \"himself\", \"his\", \"how\", \"how's\", \"i\", \"i'd\", \"i'll\", \"i'm\", \"i've\", \"if\", \"in\", \"into\", \"is\", \"it\", \"it's\", \"its\", \"itself\", \"let's\", \"me\", \"more\", \"most\", \"my\", \"myself\", \"nor\", \"of\", \"on\", \"once\", \"only\", \"or\", \"other\", \"ought\", \"our\", \"ours\", \"ourselves\", \"out\", \"over\", \"own\", \"same\", \"she\", \"she'd\", \"she'll\", \"she's\", \"should\", \"so\", \"some\", \"such\", \"than\", \"that\", \"that's\", \"the\", \"their\", \"theirs\", \"them\", \"themselves\", \"then\", \"there\", \"there's\", \"these\", \"they\", \"they'd\", \"they'll\", \"they're\", \"they've\", \"this\", \"those\", \"through\", \"to\", \"too\", \"under\", \"until\", \"up\", \"very\", \"was\", \"we\", \"we'd\", \"we'll\", \"we're\", \"we've\", \"were\", \"what\", \"what's\", \"when\", \"when's\", \"where\", \"where's\", \"which\", \"while\", \"who\", \"who's\", \"whom\", \"why\", \"why's\", \"with\", \"would\", \"you\", \"you'd\", \"you'll\", \"you're\", \"you've\", \"your\", \"yours\", \"yourself\", \"yourselves\" ]\n",
        "\n",
        "def loadDataset(filename):\n",
        "  d=[]\n",
        "  with open(filename, 'r') as f:\n",
        "      datastore = json.load(f)\n",
        "  for item in datastore:\n",
        "    sentence = item['data']\n",
        "    label = item['is_sensitive']\n",
        "    for word in stopwords: #Remove stop words in sentence\n",
        "      token = \" \" + word + \" \"\n",
        "      sentence = sentence.replace(token, \" \")\n",
        "    d.append([sentence,label])\n",
        "  return d"
      ]
    },
    {
      "cell_type": "code",
      "execution_count": 100,
      "metadata": {},
      "outputs": [],
      "source": [
        "# Load sensitive and non-sensitive data from JSON files\n",
        "sen = loadDataset('data.json')\n",
        "nonsen = loadDataset('non_sensitive_data.json')"
      ]
    },
    {
      "cell_type": "code",
      "execution_count": 101,
      "metadata": {},
      "outputs": [
        {
          "name": "stdout",
          "output_type": "stream",
          "text": [
            "10000\n",
            "10000\n"
          ]
        }
      ],
      "source": [
        "print(len(sen))\n",
        "print(len(nonsen))"
      ]
    },
    {
      "cell_type": "code",
      "execution_count": 103,
      "metadata": {},
      "outputs": [
        {
          "name": "stdout",
          "output_type": "stream",
          "text": [
            "Training Dataset Size:  16000\n",
            "Sample Training Data: ['Name:Joseph Martin PhD, Age:47, Medical Condition:Cancer, Doctor:Sean Young, Hospital:Logan-Stewart, Medication:Aspirin, Test Results:Inconclusive, Billing Amount:8197.310249862994'\n",
            " 'Name:Jessica Perez, Age:40, Medical Condition:Arthritis, Doctor:Theresa Moore, Hospital:Blackwell, Aguilar Hughes, Medication:Paracetamol, Test Results:Abnormal, Billing Amount:6164.281923358486'\n",
            " 'Gender:Male, Blood Type:A-, Date Admission:2020-06-05, Insurance Provider:UnitedHealthcare, Room Number:466, Admission Type:Emergency, Discharge Date:2020-06-11'\n",
            " ...\n",
            " 'Name:Jeffrey Gregory, Age:78, Medical Condition:Asthma, Doctor:Dwayne Walker, Hospital:Mejia-Harris, Medication:Ibuprofen, Test Results:Inconclusive, Billing Amount:28623.423800404795'\n",
            " 'Gender:Female, Blood Type:AB-, Date Admission:2022-02-11, Insurance Provider:Cigna, Room Number:427, Admission Type:Elective, Discharge Date:2022-02-17'\n",
            " 'Gender:Male, Blood Type:O+, Date Admission:2021-02-12, Insurance Provider:Blue Cross, Room Number:144, Admission Type:Urgent, Discharge Date:2021-02-24']\n",
            "Validation Dataset Size:  4000\n",
            "Sample Validation Data: ['Gender:Female, Blood Type:A-, Date Admission:2023-02-05, Insurance Provider:Blue Cross, Room Number:399, Admission Type:Urgent, Discharge Date:2023-02-11'\n",
            " 'Gender:Female, Blood Type:AB+, Date Admission:2019-04-07, Insurance Provider:Medicare, Room Number:364, Admission Type:Urgent, Discharge Date:2019-05-02'\n",
            " 'Gender:Male, Blood Type:A-, Date Admission:2023-06-18, Insurance Provider:UnitedHealthcare, Room Number:379, Admission Type:Elective, Discharge Date:2023-06-26'\n",
            " ...\n",
            " 'Gender:Female, Blood Type:B-, Date Admission:2023-01-09, Insurance Provider:Medicare, Room Number:419, Admission Type:Emergency, Discharge Date:2023-01-10'\n",
            " 'Gender:Male, Blood Type:A-, Date Admission:2022-01-29, Insurance Provider:Blue Cross, Room Number:363, Admission Type:Emergency, Discharge Date:2022-02-23'\n",
            " 'Gender:Female, Blood Type:AB-, Date Admission:2022-02-15, Insurance Provider:Aetna, Room Number:341, Admission Type:Elective, Discharge Date:2022-03-10']\n"
          ]
        }
      ],
      "source": [
        "import pandas as pd\n",
        "sen=pd.DataFrame(data=sen,columns=['sentences','labels'])\n",
        "nonsen=pd.DataFrame(data=nonsen,columns=['sentences','labels'])\n",
        "df= pd.concat([sen, nonsen], axis=0)\n",
        "df=df.sample(frac=1).reset_index(drop=True)\n",
        "df_sen=df[df['labels']==1]\n",
        "df_non=df[df['labels']==0]\n",
        "df_balanced = pd.concat([df_non, df_sen])\n",
        "\n",
        "# Splitting into features (X) and labels (y)\n",
        "X = df_balanced['sentences'].values\n",
        "y = df_balanced['labels'].values\n",
        "\n",
        "training_sentences, validation_sentences, training_labels, validation_labels= train_test_split(X,y,test_size=0.2,stratify=y)\n",
        "\n",
        "print(\"Training Dataset Size: \", len(training_sentences))\n",
        "print(\"Sample Training Data:\", training_sentences)\n",
        "print(\"Validation Dataset Size: \", len(validation_sentences))\n",
        "print(\"Sample Validation Data:\", validation_sentences)"
      ]
    },
    {
      "cell_type": "code",
      "execution_count": 104,
      "metadata": {},
      "outputs": [
        {
          "name": "stdout",
          "output_type": "stream",
          "text": [
            "Size of word index: 17510\n",
            "Saving the word index as JSON\n"
          ]
        }
      ],
      "source": [
        "# Tokenizer takes the num_words (here vocab_size = 3000) maximum occuring unique words from the dataset.\n",
        "# Anything out of these words will be treated as Out of Vocabulary(<oov>)\n",
        "# It strips the punctutations and removes upper-case letters.\n",
        "tokenizer = Tokenizer(num_words=vocab_size, oov_token=oov_tok)\n",
        "\n",
        "# Apply the tokenizer on training sentences and generate the word index\n",
        "# Eg: word_index[\"the\"] = 1; word_index[\"cat\"] = 2; etc.\n",
        "tokenizer.fit_on_texts(training_sentences)\n",
        "\n",
        "# Save the word index (Used for deploying in web application)\n",
        "word_index = tokenizer.word_index\n",
        "print(\"Size of word index:\", len(word_index))\n",
        "\n",
        "with open(\"word_index.json\", \"w\") as outfile:  \n",
        "    json.dump(word_index, outfile)\n",
        "    print(\"Saving the word index as JSON\")\n",
        "\n",
        "# Transforms each word in sentences to a sequence of integers based on the word_index\n",
        "training_sequences = tokenizer.texts_to_sequences(training_sentences)\n",
        "# To feed the text into neural network - sentences must be of the same length. Hence we'll be using padding.\n",
        "# If the sentences are smaller than the maxlen, then we'll pad (Here, we are using post padding)\n",
        "# If the sentences are larger than the maxlen, then we'll truncate (Here, we are using post truncation)\n",
        "training_padded = pad_sequences(training_sequences, maxlen=max_length, padding=padding_type, truncating=truncation_type)\n",
        "\n",
        "# Apply the same for validation data\n",
        "validation_sequences = tokenizer.texts_to_sequences(validation_sentences)\n",
        "validation_padded = pad_sequences(validation_sequences, maxlen=max_length, padding=padding_type, truncating=truncation_type)"
      ]
    },
    {
      "cell_type": "code",
      "execution_count": 105,
      "metadata": {},
      "outputs": [
        {
          "name": "stdout",
          "output_type": "stream",
          "text": [
            "Model: \"sequential_4\"\n",
            "_________________________________________________________________\n",
            " Layer (type)                Output Shape              Param #   \n",
            "=================================================================\n",
            " embedding_6 (Embedding)     (None, 60, 32)            96000     \n",
            "                                                                 \n",
            " batch_normalization_12 (Ba  (None, 60, 32)            128       \n",
            " tchNormalization)                                               \n",
            "                                                                 \n",
            " conv1d_4 (Conv1D)           (None, 58, 32)            3104      \n",
            "                                                                 \n",
            " batch_normalization_13 (Ba  (None, 58, 32)            128       \n",
            " tchNormalization)                                               \n",
            "                                                                 \n",
            " global_average_pooling1d_4  (None, 32)                0         \n",
            "  (GlobalAveragePooling1D)                                       \n",
            "                                                                 \n",
            " batch_normalization_14 (Ba  (None, 32)                128       \n",
            " tchNormalization)                                               \n",
            "                                                                 \n",
            " dense_10 (Dense)            (None, 16)                528       \n",
            "                                                                 \n",
            " dense_11 (Dense)            (None, 1)                 17        \n",
            "                                                                 \n",
            "=================================================================\n",
            "Total params: 100033 (390.75 KB)\n",
            "Trainable params: 99841 (390.00 KB)\n",
            "Non-trainable params: 192 (768.00 Byte)\n",
            "_________________________________________________________________\n"
          ]
        }
      ],
      "source": [
        "# Callbacks to cancel training after reaching a desired accuracy\n",
        "# This is done to avoid overfitting\\\"\n",
        "\n",
        "DESIRED_ACCURACY = 0.99\n",
        "class myCallback(tf.keras.callbacks.Callback):\n",
        "  def on_epoch_end(self, epoch, logs={}):\n",
        "    if logs.get('accuracy') > DESIRED_ACCURACY:\n",
        "      print(\"Reached 99.9% accuracy so cancelling training!\")\n",
        "      self.model.stop_training = True\n",
        "callbacks = myCallback()\n",
        "\n",
        "early_stopping = EarlyStopping(monitor='val_loss', patience=5, restore_best_weights=True)\n",
        "\n",
        "# Sequential - defines a SEQUENCE of layers in the neural network.\n",
        "model = tf.keras.Sequential([\n",
        "    # Embedding - Turns positive integers (indexes) into dense vectors of fixed size (here embedding_dim = 32).\n",
        "    tf.keras.layers.Embedding(vocab_size, embedding_dim, input_length=max_length),\n",
        "    # 1D convolution layer - filter size = 128, convolution window = 5, activation fn = ReLU\n",
        "    tf.keras.layers.BatchNormalization(),\n",
        "    tf.keras.layers.Conv1D(32, 3, activation='relu'),\n",
        "    #tf.keras.layers.Dropout(0.5),\n",
        "    # Global average pooling operation (Flattening)\n",
        "    tf.keras.layers.BatchNormalization(),\n",
        "    tf.keras.layers.GlobalAveragePooling1D(),\n",
        "    # Regular densely-connected Neural Network layer with ReLU activation function.\n",
        "    tf.keras.layers.BatchNormalization(),\n",
        "    tf.keras.layers.Dense(16, activation='relu',kernel_regularizer=l2(0.0001)),\n",
        "    #tf.keras.layers.Dropout(0.5),\n",
        "    # Regular densely-connected Neural Network layer with sigmoid activation function.\n",
        "    tf.keras.layers.Dense(1, activation='sigmoid')\n",
        "])\n",
        "\n",
        "# model.compile - Configures the model for training.\n",
        "model.compile(loss='binary_crossentropy',optimizer='adam',metrics=['accuracy'])\n",
        "# Adam -  optimization algorithm used instead of the classical stochastic gradient descent procedure to update network weights.\n",
        "\n",
        "# Display the summary of the model\n",
        "model.summary()"
      ]
    },
    {
      "cell_type": "code",
      "execution_count": 106,
      "metadata": {},
      "outputs": [
        {
          "name": "stdout",
          "output_type": "stream",
          "text": [
            "Epoch 1/5\n",
            "500/500 [==============================] - 5s 6ms/step - loss: 0.0111 - accuracy: 0.9984 - val_loss: 0.1279 - val_accuracy: 1.0000\n",
            "Epoch 2/5\n",
            "500/500 [==============================] - 4s 9ms/step - loss: 0.0024 - accuracy: 1.0000 - val_loss: 0.0021 - val_accuracy: 1.0000\n",
            "Epoch 3/5\n",
            "500/500 [==============================] - 4s 8ms/step - loss: 0.0020 - accuracy: 1.0000 - val_loss: 0.0017 - val_accuracy: 1.0000\n",
            "Epoch 4/5\n",
            "500/500 [==============================] - 4s 9ms/step - loss: 0.0017 - accuracy: 1.0000 - val_loss: 0.0014 - val_accuracy: 1.0000\n",
            "Epoch 5/5\n",
            "500/500 [==============================] - 4s 7ms/step - loss: 0.0013 - accuracy: 1.0000 - val_loss: 0.0011 - val_accuracy: 1.0000\n"
          ]
        }
      ],
      "source": [
        "num_epochs = 5\n",
        "\n",
        "# model.fit - Train the model for a fixed number of epochs\n",
        "history = model.fit(training_padded, \n",
        "                    training_labels, \n",
        "                    epochs=num_epochs, \n",
        "                    validation_data=(\n",
        "                        validation_padded, \n",
        "                        validation_labels), \n",
        "                    verbose=1,)\n",
        "               # callbacks=[callbacks])"
      ]
    },
    {
      "cell_type": "code",
      "execution_count": 107,
      "metadata": {},
      "outputs": [
        {
          "data": {
            "image/png": "[encoded data removed]",
            "text/plain": [
              "<Figure size 640x480 with 1 Axes>"
            ]
          },
          "metadata": {},
          "output_type": "display_data"
        },
        {
          "data": {
            "image/png": "[encoded data removed]",
            "text/plain": [
              "<Figure size 640x480 with 1 Axes>"
            ]
          },
          "metadata": {},
          "output_type": "display_data"
        }
      ],
      "source": [
        "import matplotlib.pyplot as plt\n",
        "\n",
        "# Plot the accuracy and loss functions\n",
        "def plot_graphs(history, string):\n",
        "  plt.plot(history.history[string])\n",
        "  plt.plot(history.history['val_'+string])\n",
        "  plt.xlabel(\"Epochs\")\n",
        "  plt.ylabel(string)\n",
        "  plt.legend([string, 'val_'+string])\n",
        "  plt.show()\n",
        "  \n",
        "plot_graphs(history, \"accuracy\")\n",
        "plot_graphs(history, \"loss\")"
      ]
    },
    {
      "cell_type": "code",
      "execution_count": 108,
      "metadata": {},
      "outputs": [
        {
          "name": "stdout",
          "output_type": "stream",
          "text": [
            "Confusion Matrix\n",
            "125/125 [==============================] - 1s 3ms/step\n",
            "Threshold [0.5000004]\n",
            "Accuracy for Test Data =  100.0\n"
          ]
        },
        {
          "data": {
            "text/plain": [
              "Text(95.72222222222221, 0.5, 'Expected')"
            ]
          },
          "execution_count": 108,
          "metadata": {},
          "output_type": "execute_result"
        },
        {
          "data": {
            "image/png": "[encoded data removed]",
            "text/plain": [
              "<Figure size 1000x700 with 2 Axes>"
            ]
          },
          "metadata": {},
          "output_type": "display_data"
        }
      ],
      "source": [
        "import seaborn\n",
        "import pandas as pd\n",
        "print('Confusion Matrix')\n",
        "y_predicted = model.predict(validation_padded)\n",
        "print(\"Threshold\",(min(y_predicted)+max(y_predicted))/2)\n",
        "y_predicted_labels = y_predicted > 0.5\n",
        "#print(y_predicted_labels)\n",
        "size = np.size(y_predicted_labels)\n",
        "y_predicted_labels = y_predicted_labels.reshape(size, )\n",
        "\"\"\"\n",
        "for i in range (1, 5):\n",
        "  total = i * size // 4\n",
        "  cm = tf.math.confusion_matrix(labels=validation_labels[0:total],predictions=y_predicted_labels[0:total])\n",
        "\n",
        "  # Calculate accuracy\n",
        "  cm_np = cm.numpy()\n",
        "  conf_acc = (cm_np[0, 0] + cm_np[1, 1])/ np.sum(cm_np) * 100\n",
        "  print(\"Accuracy for\", str(total), \"Test Data = \", conf_acc)\n",
        "\n",
        "  # Plot the confusion matrix\n",
        "  plt.figure(figsize = (10,7))\n",
        "  seaborn.heatmap(cm, annot=True, fmt='d')\n",
        "  plt.title(\"Confusion Matrix for \" + str(total) + \" Test Data\")\n",
        "  plt.xlabel('Predicted')\n",
        "  plt.ylabel('Expected')\n",
        "  \"\"\"\n",
        "cm = tf.math.confusion_matrix(validation_labels,y_predicted_labels)\n",
        "cm_np = cm.numpy()\n",
        "conf_acc = ((cm_np[0, 0] + cm_np[1, 1])/ np.sum(cm_np)) * 100\n",
        "print(\"Accuracy for Test Data = \", conf_acc)\n",
        "plt.figure(figsize = (10,7))\n",
        "seaborn.heatmap(cm, annot=True, fmt='d')\n",
        "plt.title(\"Confusion Matrix for Test Data\")\n",
        "plt.xlabel('Predicted')\n",
        "plt.ylabel('Expected')"
      ]
    },
    {
      "cell_type": "code",
      "execution_count": 87,
      "metadata": {},
      "outputs": [
        {
          "data": {
            "text/plain": [
              "'\\nfrom tensorflow.keras.losses import BinaryCrossentropy\\ntokenizer = BertTokenizer.from_pretrained(\\'bert-base-uncased\\')\\nmodel = TFBertForSequenceClassification.from_pretrained(\\'bert-base-uncased\\', num_labels=2)\\n\\noptimizer = optimizers.Adam(learning_rate=5e-5)\\nloss = BinaryCrossentropy(from_logits=True)\\nmodel.compile(optimizer=optimizer, loss=loss, metrics=[\\'accuracy\\'])\\n\\n#texts creation\\ntexts = [\"Sr No Blood Bank Name State District City Address Pincode Contact No phone Helpline Fax Email Website Nodal Officer Contact Nodal Officer Mobile Nodal Officer Email Nodal Officer Qualification Nodal Officer Category Blood Component Available Apheresis Service Time License # Date License Obtained Date of Renewal Latitude Longitude\"]\\n\\ninputs = tokenizer(texts, padding=True, truncation=True, max_length=512, return_tensors=\\'tf\\')\\noutputs = model(inputs)\\n'"
            ]
          },
          "execution_count": 87,
          "metadata": {},
          "output_type": "execute_result"
        }
      ],
      "source": [
        "\"\"\"\n",
        "from tensorflow.keras.losses import BinaryCrossentropy\n",
        "tokenizer = BertTokenizer.from_pretrained('bert-base-uncased')\n",
        "model = TFBertForSequenceClassification.from_pretrained('bert-base-uncased', num_labels=2)\n",
        "\n",
        "optimizer = optimizers.Adam(learning_rate=5e-5)\n",
        "loss = BinaryCrossentropy(from_logits=True)\n",
        "model.compile(optimizer=optimizer, loss=loss, metrics=['accuracy'])\n",
        "\n",
        "#texts creation\n",
        "texts = [\"Sr No Blood Bank Name State District City Address Pincode Contact No phone Helpline Fax Email Website Nodal Officer Contact Nodal Officer Mobile Nodal Officer Email Nodal Officer Qualification Nodal Officer Category Blood Component Available Apheresis Service Time License # Date License Obtained Date of Renewal Latitude Longitude\"]\n",
        "\n",
        "inputs = tokenizer(texts, padding=True, truncation=True, max_length=512, return_tensors='tf')\n",
        "outputs = model(inputs)\n",
        "\"\"\""
      ]
    },
    {
      "cell_type": "code",
      "execution_count": 88,
      "metadata": {},
      "outputs": [
        {
          "data": {
            "text/plain": [
              "'\\nfrom rasa_nlu.model import Interpreter\\nimport json\\n\\ninterpreter = Interpreter.load(\"./models/current/nlu\")\\nmessages = [\"the password could be bananas\", \"username foo, password: Zzzsa23\", \"the weather is just fine\"]\\n\\nfor message in messages:\\n    print(\"Evaluating: %s\" % message)\\n    result = interpreter.parse(message)\\n    print(\"Most likely intent: %s\" % result[\\'intent\\'])\\n    print(\"all data: %s\" % json.dumps(result, indent=2))\\n'"
            ]
          },
          "execution_count": 88,
          "metadata": {},
          "output_type": "execute_result"
        }
      ],
      "source": [
        "\"\"\"\n",
        "from rasa_nlu.model import Interpreter\n",
        "import json\n",
        "\n",
        "interpreter = Interpreter.load(\"./models/current/nlu\")\n",
        "messages = [\"the password could be bananas\", \"username foo, password: Zzzsa23\", \"the weather is just fine\"]\n",
        "\n",
        "for message in messages:\n",
        "    print(\"Evaluating: %s\" % message)\n",
        "    result = interpreter.parse(message)\n",
        "    print(\"Most likely intent: %s\" % result['intent'])\n",
        "    print(\"all data: %s\" % json.dumps(result, indent=2))\n",
        "\"\"\""
      ]
    },
    {
      "cell_type": "code",
      "execution_count": 89,
      "metadata": {},
      "outputs": [
        {
          "data": {
            "text/plain": [
              "'\\nimport tensorflow as tf\\nimport tensorflow_hub as hub\\n!pip install tensorflow-text\\nimport tensorflow_text as text\\nbert_preprocess = hub.KerasLayer(\"https://tfhub.dev/tensorflow/bert_en_uncased_preprocess/3\")\\nbert_encoder = hub.KerasLayer(\"https://tfhub.dev/tensorflow/bert_en_uncased_L-12_H-768_A-12/4\")\\n# Bert layers\\ntext_input = tf.keras.layers.Input(shape=(), dtype=tf.string, name=\\'text\\')\\npreprocessed_text = bert_preprocess(text_input)\\noutputs = bert_encoder(preprocessed_text)\\n# Neural network layers\\nl = tf.keras.layers.Dropout(0.1, name=\"dropout\")(outputs[\\'pooled_output\\'])\\nl = tf.keras.layers.Dense(1, activation=\\'sigmoid\\', name=\"output\")(l)\\n# Use inputs and outputs to construct a final model\\nmodel = tf.keras.Model(inputs=[text_input], outputs = [l])\\nmodel.compile(optimizer=\\'adam\\', loss=\\'binary_crossentropy\\', metrics=[\\'accuracy\\'])\\nmodel.fit(training_padded, training_labels, epochs=2, batch_size = 32)\\ny_predicted = model.predict(validation_padded)\\ny_predicted = y_predicted.flatten()\\nprint(y_predicted)\\n'"
            ]
          },
          "execution_count": 89,
          "metadata": {},
          "output_type": "execute_result"
        }
      ],
      "source": [
        "\"\"\"\n",
        "import tensorflow as tf\n",
        "import tensorflow_hub as hub\n",
        "!pip install tensorflow-text\n",
        "import tensorflow_text as text\n",
        "bert_preprocess = hub.KerasLayer(\"https://tfhub.dev/tensorflow/bert_en_uncased_preprocess/3\")\n",
        "bert_encoder = hub.KerasLayer(\"https://tfhub.dev/tensorflow/bert_en_uncased_L-12_H-768_A-12/4\")\n",
        "# Bert layers\n",
        "text_input = tf.keras.layers.Input(shape=(), dtype=tf.string, name='text')\n",
        "preprocessed_text = bert_preprocess(text_input)\n",
        "outputs = bert_encoder(preprocessed_text)\n",
        "# Neural network layers\n",
        "l = tf.keras.layers.Dropout(0.1, name=\"dropout\")(outputs['pooled_output'])\n",
        "l = tf.keras.layers.Dense(1, activation='sigmoid', name=\"output\")(l)\n",
        "# Use inputs and outputs to construct a final model\n",
        "model = tf.keras.Model(inputs=[text_input], outputs = [l])\n",
        "model.compile(optimizer='adam', loss='binary_crossentropy', metrics=['accuracy'])\n",
        "model.fit(training_padded, training_labels, epochs=2, batch_size = 32)\n",
        "y_predicted = model.predict(validation_padded)\n",
        "y_predicted = y_predicted.flatten()\n",
        "print(y_predicted)\n",
        "\"\"\""
      ]
    }
  ],
  "metadata": {
    "colab": {
      "authorship_tag": "ABX9TyPpwlOM8VYJa7QabNcasu0S",
      "collapsed_sections": [],
      "include_colab_link": true,
      "name": "Text_Classification.ipynb",
      "provenance": []
    },
    "kernelspec": {
      "display_name": "Python 3",
      "name": "python3"
    },
    "language_info": {
      "codemirror_mode": {
        "name": "ipython",
        "version": 3
      },
      "file_extension": ".py",
      "mimetype": "text/x-python",
      "name": "python",
      "nbconvert_exporter": "python",
      "pygments_lexer": "ipython3",
      "version": "3.11.1"
    }
  },
  "nbformat": 4,
  "nbformat_minor": 0
}
